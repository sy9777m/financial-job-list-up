{
 "metadata": {
  "language_info": {
   "codemirror_mode": {
    "name": "ipython",
    "version": 3
   },
   "file_extension": ".py",
   "mimetype": "text/x-python",
   "name": "python",
   "nbconvert_exporter": "python",
   "pygments_lexer": "ipython3",
   "version": "3.9.0-final"
  },
  "orig_nbformat": 2,
  "kernelspec": {
   "name": "python3",
   "display_name": "Python 3.9.0 64-bit ('venv')",
   "metadata": {
    "interpreter": {
     "hash": "5d30700fb1e014b051c42e92bbef4e5922ca2477deff62f8c6fc115fef307349"
    }
   }
  }
 },
 "nbformat": 4,
 "nbformat_minor": 2,
 "cells": [
  {
   "cell_type": "code",
   "execution_count": 1,
   "metadata": {},
   "outputs": [],
   "source": [
    "import requests\n",
    "import pandas as pd\n",
    "from bs4 import BeautifulSoup as bs"
   ]
  },
  {
   "cell_type": "code",
   "execution_count": 40,
   "metadata": {},
   "outputs": [],
   "source": [
    "job_table = pd.DataFrame(columns=['job', 'link'])\n",
    "for p in range(1, 11):\n",
    "    res = requests.get('http://www.kofia.or.kr/brd/m_96/list.do', params={\n",
    "        'page': str(p),\n",
    "        'multi_itm_seq': '0',\n",
    "        'itm_seq_1': '0',\n",
    "        'itm_seq_2': '0'\n",
    "    })\n",
    "\n",
    "    soup = bs(res.text, 'html.parser')\n",
    "    temp_list = soup.findAll('td', attrs={'class': 'left'})\n",
    "    for i in temp_list:\n",
    "        job = i.a.text\n",
    "        link = 'http://www.kofia.or.kr/brd/m_96' + i.a['href'][1:]\n",
    "        temp_series = pd.Series([job, link], index=job_table.columns)\n",
    "        job_table = job_table.append(temp_series, ignore_index=True)"
   ]
  },
  {
   "cell_type": "code",
   "execution_count": 43,
   "metadata": {},
   "outputs": [],
   "source": [
    "job_table.to_excel('job_table.xlsx')"
   ]
  },
  {
   "cell_type": "code",
   "execution_count": null,
   "metadata": {},
   "outputs": [],
   "source": []
  }
 ]
}